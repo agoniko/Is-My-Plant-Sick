version https://git-lfs.github.com/spec/v1
oid sha256:3b317308f3e127502dcc704511870c617454ea818cdb161479ab0c3a8ecb62be
size 106053196
