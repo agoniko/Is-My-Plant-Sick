version https://git-lfs.github.com/spec/v1
oid sha256:7090e4c25ba29d479b523f6592caeb1c1490b246220ef7a35b4e9db107089568
size 141791
