version https://git-lfs.github.com/spec/v1
oid sha256:5afe5ce8b28ada34b4df44d8b37f06c77026cd8214a51c54aa65b4c29ba44c27
size 655977
