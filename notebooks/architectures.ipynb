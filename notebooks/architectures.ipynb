version https://git-lfs.github.com/spec/v1
oid sha256:d22dd2062f1a43f57a9420b935851642404ea03c3a74ddc7b642b5813e45adf5
size 478070
